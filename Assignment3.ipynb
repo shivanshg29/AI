{
 "cells": [
  {
   "cell_type": "code",
   "execution_count": 21,
   "metadata": {},
   "outputs": [],
   "source": [
    "import copy\n",
    "def generate_child(s):\n",
    "    l=[]\n",
    "    for i in range(len(s)):\n",
    "        if(len(s[i])!=0):\n",
    "            for j in range(len(s)):\n",
    "                s1=copy.deepcopy(s)\n",
    "                if(j!=i):\n",
    "                    x=s1[i][0]\n",
    "                    s1[i].remove(x)\n",
    "                    s1[j].insert(0,x)\n",
    "                    l.append(s1)\n",
    "    return l"
   ]
  },
  {
   "cell_type": "code",
   "execution_count": 22,
   "metadata": {},
   "outputs": [],
   "source": [
    "def dfs(s1,g):\n",
    "    open=[]\n",
    "    closed=[]\n",
    "    while(1):\n",
    "        s=copy.deepcopy(s1)\n",
    "        l=generate_child(s)\n",
    "        for each in l:\n",
    "            if each not in open and each not in closed:\n",
    "                open.append(each)\n",
    "        if(len(open)>0):\n",
    "            s1=open[len(s)-1]\n",
    "            del(open[len(s)-1])\n",
    "            print(s1)\n",
    "            closed.append(s1)\n",
    "            for each in s1:\n",
    "                if(each==g):\n",
    "                    print(\"Found\")\n",
    "                    return\n",
    "        else:\n",
    "            print(\"Not Found\")"
   ]
  },
  {
   "cell_type": "code",
   "execution_count": 23,
   "metadata": {},
   "outputs": [
    {
     "name": "stdout",
     "output_type": "stream",
     "text": [
      "[['C', 'A', 'B'], [], []]\n",
      "[['A', 'B'], [], ['C']]\n",
      "[['A', 'B'], ['C'], []]\n",
      "[['B'], ['A'], ['C']]\n",
      "[['B'], [], ['A', 'C']]\n",
      "[[], ['B', 'A'], ['C']]\n",
      "[[], ['A'], ['B', 'C']]\n",
      "[['C', 'B'], ['A'], []]\n",
      "[['B'], ['C', 'A'], []]\n",
      "[[], ['B'], ['A', 'C']]\n",
      "[[], [], ['B', 'A', 'C']]\n",
      "[['C'], ['B', 'A'], []]\n",
      "[[], ['C', 'B', 'A'], []]\n",
      "Found\n"
     ]
    }
   ],
   "source": [
    "s=[['A','B'],['C'],[]]\n",
    "g=['C','B','A']\n",
    "dfs(s,g)"
   ]
  },
  {
   "cell_type": "code",
   "execution_count": 26,
   "metadata": {},
   "outputs": [],
   "source": [
    "def bfs(s1,g):\n",
    "    open=[]\n",
    "    closed=[]\n",
    "    while(1):\n",
    "        s=copy.deepcopy(s1)\n",
    "        l=generate_child(s)\n",
    "        for each in l:\n",
    "            if(each not in open and each not in closed):\n",
    "                open.append(each)\n",
    "        if(len(open)>0):\n",
    "            s1=open[0]\n",
    "            del(open[0])\n",
    "            print(s1)\n",
    "            closed.append(s1)\n",
    "            for each in s1:\n",
    "                if(each==g):\n",
    "                    print(\"Found\")\n",
    "                    return\n",
    "        else:\n",
    "            print(\"Not Found\")"
   ]
  },
  {
   "cell_type": "code",
   "execution_count": 27,
   "metadata": {},
   "outputs": [
    {
     "name": "stdout",
     "output_type": "stream",
     "text": [
      "[['B'], ['A', 'C'], []]\n",
      "[['B'], ['C'], ['A']]\n",
      "[['C', 'A', 'B'], [], []]\n",
      "[['A', 'B'], [], ['C']]\n",
      "[[], ['B', 'A', 'C'], []]\n",
      "[[], ['A', 'C'], ['B']]\n",
      "[['A', 'B'], ['C'], []]\n",
      "[[], ['B', 'C'], ['A']]\n",
      "[[], ['C'], ['B', 'A']]\n",
      "[['C', 'B'], [], ['A']]\n",
      "[['B'], [], ['C', 'A']]\n",
      "[['B'], ['A'], ['C']]\n",
      "[['B'], [], ['A', 'C']]\n",
      "[['A'], ['C'], ['B']]\n",
      "[[], ['C'], ['A', 'B']]\n",
      "[['A'], ['B', 'C'], []]\n",
      "[[], ['A', 'B', 'C'], []]\n",
      "[['C'], [], ['B', 'A']]\n",
      "[[], [], ['C', 'B', 'A']]\n",
      "Found\n"
     ]
    }
   ],
   "source": [
    "s=[['A','B'],['C'],[]]\n",
    "g=['C','B','A']\n",
    "bfs(s,g)"
   ]
  },
  {
   "cell_type": "code",
   "execution_count": 28,
   "metadata": {},
   "outputs": [],
   "source": [
    "path=[]\n",
    "def TSP(graph,pos,n,count,cost,visited):\n",
    "    if count==n and graph[pos][0]:\n",
    "        path.append(cost+graph[pos][0])\n",
    "        return\n",
    "    for i in range(0,n):\n",
    "        if visited[i]==False and graph[pos][i]:\n",
    "            visited[i]=True\n",
    "            TSP(graph,i,n,count+1,cost+graph[pos][i],visited)\n",
    "            visited[i]=False"
   ]
  },
  {
   "cell_type": "code",
   "execution_count": 29,
   "metadata": {},
   "outputs": [
    {
     "name": "stdout",
     "output_type": "stream",
     "text": [
      "80\n"
     ]
    }
   ],
   "source": [
    "from collections import defaultdict\n",
    "n = 4\n",
    "graph= [[ 0, 10, 15, 20 ],\n",
    "        [ 10, 0, 35, 25 ],\n",
    "        [ 15, 35, 0, 30 ],\n",
    "        [ 20, 25, 30, 0 ]]\n",
    "visited=defaultdict(lambda:False)\n",
    "visited[0] = True\n",
    "\n",
    "TSP(graph,0,4,1,0,visited)\n",
    "\n",
    "print(min(path))"
   ]
  }
 ],
 "metadata": {
  "kernelspec": {
   "display_name": "Python 3",
   "language": "python",
   "name": "python3"
  },
  "language_info": {
   "codemirror_mode": {
    "name": "ipython",
    "version": 3
   },
   "file_extension": ".py",
   "mimetype": "text/x-python",
   "name": "python",
   "nbconvert_exporter": "python",
   "pygments_lexer": "ipython3",
   "version": "3.11.5"
  }
 },
 "nbformat": 4,
 "nbformat_minor": 2
}
