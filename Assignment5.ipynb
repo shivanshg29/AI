{
 "cells": [
  {
   "cell_type": "code",
   "execution_count": 76,
   "metadata": {},
   "outputs": [],
   "source": [
    "iterator=0\n",
    "def one_point_cross(chromo1,chromo2):\n",
    "    ind=len(chromo1)//2\n",
    "    chromo1[ind:],chromo2[ind:]=chromo2[ind:],chromo1[ind:]"
   ]
  },
  {
   "cell_type": "code",
   "execution_count": 77,
   "metadata": {},
   "outputs": [],
   "source": [
    "def mutation(chromo):\n",
    "    global iterator\n",
    "    index=[3,2,1,0]\n",
    "    pos=iterator%4\n",
    "    x=index[pos]\n",
    "    chromo[x]=abs(1-chromo[x])\n",
    "    iterator+=1"
   ]
  },
  {
   "cell_type": "code",
   "execution_count": 78,
   "metadata": {},
   "outputs": [],
   "source": [
    "def getValue(chromo,W,V,maxW):\n",
    "    wt=0\n",
    "    val=0\n",
    "    for i in range(0,len(chromo)):\n",
    "        if (chromo[i]==1):\n",
    "            val+=V[i]\n",
    "            wt+=W[i]\n",
    "    \n",
    "    if wt<=maxW:\n",
    "        return val\n",
    "    else:\n",
    "        return 0\n"
   ]
  },
  {
   "cell_type": "code",
   "execution_count": 79,
   "metadata": {},
   "outputs": [],
   "source": [
    "def findBest(popu,W,V,maxW):\n",
    "    ind=0\n",
    "    curr_max=popu[0]\n",
    "    curr_max_val=getValue(curr_max,W,V,maxW)\n",
    "    for i in range(1,len(popu)):\n",
    "        if(curr_max_val<getValue(popu[i],W,V,maxW)):\n",
    "            curr_max_val=getValue(popu[i],W,V,maxW)\n",
    "            curr_max=popu[i]\n",
    "            ind=i\n",
    "    \n",
    "    popu.pop(ind)\n",
    "    return curr_max"
   ]
  },
  {
   "cell_type": "code",
   "execution_count": 80,
   "metadata": {},
   "outputs": [],
   "source": [
    "def genetic_algo(W,V,maxW,popu):\n",
    "    first=findBest(popu,W,V,maxW)\n",
    "    second=findBest(popu,W,V,maxW)\n",
    "    third=findBest(popu,W,V,maxW)\n",
    "    fourth=findBest(popu,W,V,maxW)\n",
    "    popu.append(first)\n",
    "    popu.append(second)\n",
    "    popu.append(third)\n",
    "    popu.append(fourth)\n",
    "    one_point_cross(popu[2],popu[3])\n",
    "    mutation(popu[3])\n",
    "    print(popu)\n",
    "    print(\"Fittest Chromosome\",popu[0])"
   ]
  },
  {
   "cell_type": "code",
   "execution_count": 81,
   "metadata": {},
   "outputs": [
    {
     "name": "stdout",
     "output_type": "stream",
     "text": [
      "[[1, 0, 1, 0], [1, 0, 0, 0], [1, 1, 0, 1], [1, 0, 1, 0]]\n",
      "Fittest Chromosome [1, 0, 1, 0]\n",
      "[[1, 0, 1, 0], [1, 0, 1, 0], [1, 0, 0, 1], [1, 1, 1, 0]]\n",
      "Fittest Chromosome [1, 0, 1, 0]\n",
      "[[1, 0, 1, 0], [1, 0, 1, 0], [1, 0, 1, 0], [1, 0, 0, 1]]\n",
      "Fittest Chromosome [1, 0, 1, 0]\n",
      "[[1, 0, 1, 0], [1, 0, 1, 0], [1, 0, 0, 1], [0, 0, 1, 0]]\n",
      "Fittest Chromosome [1, 0, 1, 0]\n",
      "[[1, 0, 1, 0], [1, 0, 1, 0], [0, 0, 0, 1], [1, 0, 1, 1]]\n",
      "Fittest Chromosome [1, 0, 1, 0]\n",
      "[[1, 0, 1, 0], [1, 0, 1, 0], [0, 0, 1, 1], [1, 0, 1, 1]]\n",
      "Fittest Chromosome [1, 0, 1, 0]\n",
      "[[1, 0, 1, 0], [1, 0, 1, 0], [0, 0, 1, 1], [1, 1, 1, 1]]\n",
      "Fittest Chromosome [1, 0, 1, 0]\n",
      "[[1, 0, 1, 0], [1, 0, 1, 0], [0, 0, 1, 1], [0, 1, 1, 1]]\n",
      "Fittest Chromosome [1, 0, 1, 0]\n",
      "[[1, 0, 1, 0], [1, 0, 1, 0], [0, 0, 1, 1], [0, 1, 1, 0]]\n",
      "Fittest Chromosome [1, 0, 1, 0]\n",
      "[[0, 1, 1, 0], [1, 0, 1, 0], [1, 0, 1, 1], [0, 0, 0, 0]]\n",
      "Fittest Chromosome [0, 1, 1, 0]\n"
     ]
    }
   ],
   "source": [
    "W=[45,40,50,90]\n",
    "V=[3,5,8,10]\n",
    "maxW=100\n",
    "popu=[[1,1,1,1],\n",
    "    [1,0,0,0],\n",
    "    [1,0,1,0],\n",
    "    [1,0,0,1]]\n",
    "\n",
    "for i in range(0,10):\n",
    "    genetic_algo(W,V,maxW,popu)"
   ]
  }
 ],
 "metadata": {
  "kernelspec": {
   "display_name": "Python 3",
   "language": "python",
   "name": "python3"
  },
  "language_info": {
   "codemirror_mode": {
    "name": "ipython",
    "version": 3
   },
   "file_extension": ".py",
   "mimetype": "text/x-python",
   "name": "python",
   "nbconvert_exporter": "python",
   "pygments_lexer": "ipython3",
   "version": "3.11.5"
  }
 },
 "nbformat": 4,
 "nbformat_minor": 2
}
