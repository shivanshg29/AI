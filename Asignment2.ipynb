{
 "cells": [
  {
   "cell_type": "code",
   "execution_count": 10,
   "metadata": {},
   "outputs": [],
   "source": [
    "def UCS(goal,start):\n",
    "    global graph\n",
    "    queue=[]\n",
    "    queue.append([0,start,-1])\n",
    "    ans=999999\n",
    "    visited={}\n",
    "    while(len(queue)):\n",
    "        queue=sorted(queue)\n",
    "        print(queue)\n",
    "        p=queue[0]\n",
    "        del queue[0]\n",
    "        if(p[1]==goal):\n",
    "            if(ans>p[0]):\n",
    "                ans=p[0]\n",
    "                del queue[0]\n",
    "                return ans\n",
    "        \n",
    "        if(p[1] not in visited):\n",
    "            for i in range(len(graph[p[1]])):\n",
    "                if(graph[p[1]][i]!=0):\n",
    "                    queue.append([(p[0]+graph[p[1]][i]),i,p[1]])\n",
    "                    visited[p[1]]=1\n",
    "    \n",
    "    return ans\n",
    "            "
   ]
  },
  {
   "cell_type": "code",
   "execution_count": 11,
   "metadata": {},
   "outputs": [
    {
     "name": "stdout",
     "output_type": "stream",
     "text": [
      "[[0, 0, -1]]\n",
      "[[2, 1, 0], [5, 3, 0]]\n",
      "[[3, 6, 1], [4, 0, 1], [5, 3, 0], [6, 2, 1], [7, 3, 1]]\n",
      "Minimum cost from 0 to 6 is =  3\n"
     ]
    }
   ],
   "source": [
    "graph=[[0,2,0,5,0,0,0],[2,0,4,5,0,0,1],[0,4,0,0,4,6,0],[5,5,0,2,0,0,6],[0,0,4,2,0,3,7],[0,0,6,0,3,0,3],[0,1,0,6,7,3,0]]\n",
    "goal = 6\n",
    "ans = UCS(goal, 0)\n",
    "print(\"Minimum cost from 0 to 6 is = \",ans)"
   ]
  },
  {
   "cell_type": "code",
   "execution_count": 1,
   "metadata": {},
   "outputs": [],
   "source": [
    "from collections import defaultdict\n",
    "j1,j2,t=4,3,2\n",
    "visited=defaultdict(lambda:False)"
   ]
  },
  {
   "cell_type": "code",
   "execution_count": 2,
   "metadata": {},
   "outputs": [],
   "source": [
    "def water_jug(amt1,amt2):\n",
    "    if(amt1==t and amt2==0) or (amt1==0 and amt2==t):\n",
    "        print(amt1,amt2)\n",
    "        return True\n",
    "    if(visited[(amt1,amt2)]==False):\n",
    "        print(amt1,amt2)\n",
    "        visited[(amt1,amt2)]=True\n",
    "        return (water_jug(amt1,0) or water_jug(0,amt2) or water_jug(j1,amt2) or water_jug(amt1,j2)or water_jug(amt1+min(j1-amt1,amt2),amt2-min(j1-amt1,amt2)) or water_jug(amt1-min(j2-amt2,amt1),amt2+min(j2-amt2,amt1)))\n",
    "    else:\n",
    "        return False"
   ]
  },
  {
   "cell_type": "code",
   "execution_count": 3,
   "metadata": {},
   "outputs": [
    {
     "name": "stdout",
     "output_type": "stream",
     "text": [
      "0 0\n",
      "4 0\n",
      "4 3\n",
      "0 3\n",
      "3 0\n",
      "3 3\n",
      "4 2\n",
      "0 2\n"
     ]
    },
    {
     "data": {
      "text/plain": [
       "True"
      ]
     },
     "execution_count": 3,
     "metadata": {},
     "output_type": "execute_result"
    }
   ],
   "source": [
    "water_jug(0,0)"
   ]
  },
  {
   "cell_type": "code",
   "execution_count": null,
   "metadata": {},
   "outputs": [],
   "source": []
  }
 ],
 "metadata": {
  "kernelspec": {
   "display_name": "Python 3",
   "language": "python",
   "name": "python3"
  },
  "language_info": {
   "codemirror_mode": {
    "name": "ipython",
    "version": 3
   },
   "file_extension": ".py",
   "mimetype": "text/x-python",
   "name": "python",
   "nbconvert_exporter": "python",
   "pygments_lexer": "ipython3",
   "version": "3.11.5"
  }
 },
 "nbformat": 4,
 "nbformat_minor": 2
}
